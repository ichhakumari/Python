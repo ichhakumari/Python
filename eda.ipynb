#eda

import pandas as pd
import numpy as np
df=pd.read_csv('/content/titanic_train.csv')
df.head(2)

df.isnull().sum()

import matplotlib.pyplot as plt
import seaborn as sns
df.iloc[0:2,  :]   #row

df[ 'Age' ].unique()

df['Age'] == 19

# filtering data
df[df['Age'] == 19]

# visualize data
import plotly.express as px

value = df['Sex'].value_counts().reset_index()
value

px.bar(value, x = 'index', y = 'Sex')

px.bar(value, x = 'Sex', y = 'index')

px.pie(value, values = 'Sex', names = 'index')

import seaborn as sns
import matplotlib.pyplot as plt

plt.pie(value['Sex'], labels = value['index'])
plt.show()
#hence prove plotly  is more intractive than seaborn

#which pasenger pay max fare group them
df.groupby('Name')['Fare'].max()  #average grouping single column

Name = df.groupby('Name')['Fare'].max().reset_index()
px.bar(Name, x='Name', y = 'Fare')

plt.pie(Name['Fare'], labels = Name['Name'])
plt.show()
